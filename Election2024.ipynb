{
 "cells": [
  {
   "cell_type": "code",
   "execution_count": 1,
   "metadata": {},
   "outputs": [
    {
     "name": "stdout",
     "output_type": "stream",
     "text": [
      "/Users/nicolasmartinet/Desktop/election\n"
     ]
    }
   ],
   "source": [
    "import os\n",
    "os.chdir('/Users/nicolasmartinet/Desktop/election')\n",
    "\n",
    "print(os.getcwd())\n"
   ]
  },
  {
   "cell_type": "code",
   "execution_count": 2,
   "metadata": {},
   "outputs": [],
   "source": [
    "import urllib.request\n",
    "import json\n",
    "\n",
    "url = 'https://apisds.paddypower.com/sdspp/competition-page/v3?_ak=vsd0Rm5ph2sS2uaK&betexRegion=IRL&capiJurisdiction=intl&competitionId=12306853&countryCode=IE&currencyCode=EUR&eventTypeId=2378961&exchangeLocale=en_GB&includeBadges=true&includeLayout=true&includePrices=true&includeSeoCards=true&includeSeoFooter=true&language=en&loggedIn=false&regionCode=IRE'\n",
    "req = urllib.request.Request(url)\n",
    "req.add_header('User-Agent', 'Mozilla/5.0 (Windows NT 10.0; Win64; x64; rv:106.0) Gecko/20100101 Firefox/106.0')\n",
    "req.add_header('Accept', 'text/html,application/xhtml+xml,application/xml;q=0.9,image/avif,image/webp,*/*;q=0.8')\n",
    "req.add_header('Accept-Language', 'en-US,en;q=0.5')\n",
    "\n",
    "r = urllib.request.urlopen(req).read().decode('utf-8')\n",
    "response_json = json.loads(r)\n"
   ]
  },
  {
   "cell_type": "code",
   "execution_count": 3,
   "metadata": {},
   "outputs": [],
   "source": [
    "def get_runners(obj):\n",
    "    if isinstance(obj, dict):\n",
    "        for key, value in obj.items():\n",
    "            if key == \"runners\":\n",
    "                yield value\n",
    "            else:\n",
    "                yield from get_runners(value)\n",
    "    elif isinstance(obj, list):\n",
    "        for item in obj:\n",
    "            yield from get_runners(item)\n"
   ]
  },
  {
   "cell_type": "code",
   "execution_count": 4,
   "metadata": {},
   "outputs": [],
   "source": [
    "runners = []\n",
    "for runners_list in get_runners(response_json):\n",
    "    runners.extend(runners_list)\n"
   ]
  },
  {
   "cell_type": "code",
   "execution_count": 5,
   "metadata": {},
   "outputs": [],
   "source": [
    "odds_ratios = []\n",
    "for runner in runners:\n",
    "    runner_name = runner[\"runnerName\"]\n",
    "    numerator = runner[\"winRunnerOdds\"][\"trueOdds\"][\"fractionalOdds\"][\"numerator\"]\n",
    "    denominator = runner[\"winRunnerOdds\"][\"trueOdds\"][\"fractionalOdds\"][\"denominator\"]\n",
    "    odds_ratio = numerator / denominator\n",
    "    odds_ratios.append((runner_name, odds_ratio))\n"
   ]
  },
  {
   "cell_type": "code",
   "execution_count": 6,
   "metadata": {},
   "outputs": [],
   "source": [
    "sorted_odds_ratios = sorted(odds_ratios, key=lambda x: x[1])\n"
   ]
  },
  {
   "cell_type": "code",
   "execution_count": 7,
   "metadata": {},
   "outputs": [],
   "source": [
    "def find_nominee_market(obj, marketName):\n",
    "    if isinstance(obj, dict):\n",
    "        if \"marketName\" in obj and obj[\"marketName\"] == marketName:\n",
    "            return obj\n",
    "        for key, value in obj.items():\n",
    "            result = find_nominee_market(value, marketName)\n",
    "            if result is not None:\n",
    "                return result\n",
    "    elif isinstance(obj, list):\n",
    "        for item in obj:\n",
    "            result = find_nominee_market(item, marketName)\n",
    "            if result is not None:\n",
    "                return result\n",
    "    return None\n"
   ]
  },
  {
   "cell_type": "code",
   "execution_count": 8,
   "metadata": {},
   "outputs": [],
   "source": [
    "Election_Winner = find_nominee_market(response_json, \"Election Winner\")\n",
    "Republican_nominee = find_nominee_market(response_json, \"Republican Nominee\")\n",
    "Democrat_nominee = find_nominee_market(response_json, \"Democratic Nominee\")"
   ]
  },
  {
   "cell_type": "code",
   "execution_count": 9,
   "metadata": {},
   "outputs": [],
   "source": [
    "import pandas as pd\n",
    "\n",
    "def create_runners_dataframe(d):\n",
    "    runners = d.get(\"runners\", [])\n",
    "    data = []\n",
    "    for runner in runners:\n",
    "        selection_id = runner.get(\"selectionId\")\n",
    "        handicap = runner.get(\"handicap\")\n",
    "        runner_name = runner.get(\"runnerName\")\n",
    "        sort_priority = runner.get(\"sortPriority\")\n",
    "        runner_status = runner.get(\"runnerStatus\")\n",
    "        decimal_odds = runner.get(\"winRunnerOdds\", {}).get(\"trueOdds\", {}).get(\"decimalOdds\", {}).get(\"decimalOdds\")\n",
    "        numerator = runner.get(\"winRunnerOdds\", {}).get(\"trueOdds\", {}).get(\"fractionalOdds\", {}).get(\"numerator\")\n",
    "        denominator = runner.get(\"winRunnerOdds\", {}).get(\"trueOdds\", {}).get(\"fractionalOdds\", {}).get(\"denominator\")\n",
    "        probability = 1 / decimal_odds * 100\n",
    "        data.append((selection_id, handicap, runner_name, sort_priority, runner_status, decimal_odds, numerator, denominator, probability))\n",
    "    df = pd.DataFrame(data, columns=[\"selectionId\", \"handicap\", \"runnerName\", \"sortPriority\", \"runnerStatus\", \"decimalOdds\", \"numerator\", \"denominator\", \"probability\"])\n",
    "    df.probability = df.probability/df.probability.sum()\n",
    "    df = df.sort_values(by=\"decimalOdds\")\n",
    "    return df\n"
   ]
  },
  {
   "cell_type": "code",
   "execution_count": 10,
   "metadata": {},
   "outputs": [
    {
     "data": {
      "text/html": [
       "<div>\n",
       "<style scoped>\n",
       "    .dataframe tbody tr th:only-of-type {\n",
       "        vertical-align: middle;\n",
       "    }\n",
       "\n",
       "    .dataframe tbody tr th {\n",
       "        vertical-align: top;\n",
       "    }\n",
       "\n",
       "    .dataframe thead th {\n",
       "        text-align: right;\n",
       "    }\n",
       "</style>\n",
       "<table border=\"1\" class=\"dataframe\">\n",
       "  <thead>\n",
       "    <tr style=\"text-align: right;\">\n",
       "      <th></th>\n",
       "      <th>selectionId</th>\n",
       "      <th>handicap</th>\n",
       "      <th>runnerName</th>\n",
       "      <th>sortPriority</th>\n",
       "      <th>runnerStatus</th>\n",
       "      <th>decimalOdds</th>\n",
       "      <th>numerator</th>\n",
       "      <th>denominator</th>\n",
       "      <th>probability</th>\n",
       "    </tr>\n",
       "  </thead>\n",
       "  <tbody>\n",
       "    <tr>\n",
       "      <th>163</th>\n",
       "      <td>6816445</td>\n",
       "      <td>0</td>\n",
       "      <td>Joe Biden</td>\n",
       "      <td>164</td>\n",
       "      <td>ACTIVE</td>\n",
       "      <td>2.625</td>\n",
       "      <td>13</td>\n",
       "      <td>8</td>\n",
       "      <td>0.175437</td>\n",
       "    </tr>\n",
       "    <tr>\n",
       "      <th>53</th>\n",
       "      <td>10874213</td>\n",
       "      <td>0</td>\n",
       "      <td>Donald Trump</td>\n",
       "      <td>54</td>\n",
       "      <td>ACTIVE</td>\n",
       "      <td>3.250</td>\n",
       "      <td>9</td>\n",
       "      <td>4</td>\n",
       "      <td>0.141699</td>\n",
       "    </tr>\n",
       "    <tr>\n",
       "      <th>66</th>\n",
       "      <td>30371713</td>\n",
       "      <td>0</td>\n",
       "      <td>Ron DeSantis</td>\n",
       "      <td>67</td>\n",
       "      <td>ACTIVE</td>\n",
       "      <td>6.000</td>\n",
       "      <td>5</td>\n",
       "      <td>1</td>\n",
       "      <td>0.076754</td>\n",
       "    </tr>\n",
       "    <tr>\n",
       "      <th>2</th>\n",
       "      <td>53349422</td>\n",
       "      <td>0</td>\n",
       "      <td>Robert F.Kennedy Jr</td>\n",
       "      <td>3</td>\n",
       "      <td>ACTIVE</td>\n",
       "      <td>21.000</td>\n",
       "      <td>20</td>\n",
       "      <td>1</td>\n",
       "      <td>0.021930</td>\n",
       "    </tr>\n",
       "    <tr>\n",
       "      <th>133</th>\n",
       "      <td>12126964</td>\n",
       "      <td>0</td>\n",
       "      <td>Kamala Harris</td>\n",
       "      <td>134</td>\n",
       "      <td>ACTIVE</td>\n",
       "      <td>26.000</td>\n",
       "      <td>25</td>\n",
       "      <td>1</td>\n",
       "      <td>0.017712</td>\n",
       "    </tr>\n",
       "  </tbody>\n",
       "</table>\n",
       "</div>"
      ],
      "text/plain": [
       "     selectionId  handicap           runnerName  sortPriority runnerStatus  \\\n",
       "163      6816445         0            Joe Biden           164       ACTIVE   \n",
       "53      10874213         0         Donald Trump            54       ACTIVE   \n",
       "66      30371713         0         Ron DeSantis            67       ACTIVE   \n",
       "2       53349422         0  Robert F.Kennedy Jr             3       ACTIVE   \n",
       "133     12126964         0        Kamala Harris           134       ACTIVE   \n",
       "\n",
       "     decimalOdds  numerator  denominator  probability  \n",
       "163        2.625         13            8     0.175437  \n",
       "53         3.250          9            4     0.141699  \n",
       "66         6.000          5            1     0.076754  \n",
       "2         21.000         20            1     0.021930  \n",
       "133       26.000         25            1     0.017712  "
      ]
     },
     "execution_count": 10,
     "metadata": {},
     "output_type": "execute_result"
    }
   ],
   "source": [
    "create_runners_dataframe(Election_Winner).head()"
   ]
  },
  {
   "cell_type": "code",
   "execution_count": 11,
   "metadata": {},
   "outputs": [],
   "source": [
    "def save(*dfs, names):\n",
    "    import datetime\n",
    "    today = datetime.date.today()\n",
    "    for df, name in zip(dfs, names):\n",
    "        filename = f\"{name}_{today.day}-{today.month}-{today.year}.csv\"\n",
    "        df.to_csv(filename, index=False)"
   ]
  },
  {
   "cell_type": "code",
   "execution_count": 12,
   "metadata": {},
   "outputs": [],
   "source": [
    "save(create_runners_dataframe(Election_Winner), create_runners_dataframe(Republican_nominee), create_runners_dataframe(Democrat_nominee), names = [\"Election_Winner\",\"Republican_nominee\", \"Democrat_nominee\" ])"
   ]
  },
  {
   "cell_type": "code",
   "execution_count": null,
   "metadata": {},
   "outputs": [],
   "source": []
  }
 ],
 "metadata": {
  "kernelspec": {
   "display_name": "base",
   "language": "python",
   "name": "python3"
  },
  "language_info": {
   "codemirror_mode": {
    "name": "ipython",
    "version": 3
   },
   "file_extension": ".py",
   "mimetype": "text/x-python",
   "name": "python",
   "nbconvert_exporter": "python",
   "pygments_lexer": "ipython3",
   "version": "3.9.10"
  },
  "orig_nbformat": 4
 },
 "nbformat": 4,
 "nbformat_minor": 2
}
